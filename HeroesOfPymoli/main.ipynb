{
 "cells": [
  {
   "cell_type": "markdown",
   "metadata": {},
   "source": [
    "## Option 1: Heroes of Pymoli"
   ]
  },
  {
   "cell_type": "code",
   "execution_count": 1,
   "metadata": {},
   "outputs": [],
   "source": [
    "# Dependencies and Setup\n",
    "import pandas as pd"
   ]
  },
  {
   "cell_type": "code",
   "execution_count": 2,
   "metadata": {},
   "outputs": [],
   "source": [
    "# File to Load (Remember to Change These)\n",
    "file_to_load = \"Resources/purchase_data.csv\"\n",
    "\n",
    "# Read Purchasing File and store into Pandas data frame\n",
    "purchase_data = pd.read_csv(file_to_load)\n",
    "# purchase_data.head()"
   ]
  },
  {
   "cell_type": "markdown",
   "metadata": {},
   "source": [
    "### Player Count"
   ]
  },
  {
   "cell_type": "code",
   "execution_count": 3,
   "metadata": {},
   "outputs": [
    {
     "data": {
      "text/html": [
       "<div>\n",
       "<style scoped>\n",
       "    .dataframe tbody tr th:only-of-type {\n",
       "        vertical-align: middle;\n",
       "    }\n",
       "\n",
       "    .dataframe tbody tr th {\n",
       "        vertical-align: top;\n",
       "    }\n",
       "\n",
       "    .dataframe thead th {\n",
       "        text-align: right;\n",
       "    }\n",
       "</style>\n",
       "<table border=\"1\" class=\"dataframe\">\n",
       "  <thead>\n",
       "    <tr style=\"text-align: right;\">\n",
       "      <th></th>\n",
       "      <th>Total Player</th>\n",
       "    </tr>\n",
       "  </thead>\n",
       "  <tbody>\n",
       "    <tr>\n",
       "      <th>0</th>\n",
       "      <td>576</td>\n",
       "    </tr>\n",
       "  </tbody>\n",
       "</table>\n",
       "</div>"
      ],
      "text/plain": [
       "   Total Player\n",
       "0           576"
      ]
     },
     "execution_count": 3,
     "metadata": {},
     "output_type": "execute_result"
    }
   ],
   "source": [
    "# * Total Number of Players\n",
    "player_count = purchase_data[\"SN\"].nunique()\n",
    "tot_player = pd.DataFrame([{\"Total Player\": player_count}])\n",
    "tot_player"
   ]
  },
  {
   "cell_type": "code",
   "execution_count": 4,
   "metadata": {},
   "outputs": [],
   "source": [
    "# # check if there is any missing info\n",
    "# purchase_data.count()"
   ]
  },
  {
   "cell_type": "code",
   "execution_count": 5,
   "metadata": {},
   "outputs": [],
   "source": [
    "# #  drop any missing info\n",
    "# purchase_data=purchase_data.dropna(how='any')\n",
    "# purchase_data.count()"
   ]
  },
  {
   "cell_type": "markdown",
   "metadata": {},
   "source": [
    "### Purchasing Analysis (Total)\n",
    "\n",
    "* Number of Unique Items\n",
    "* Average Purchase Price\n",
    "* Total Number of Purchases\n",
    "* Total Revenue"
   ]
  },
  {
   "cell_type": "code",
   "execution_count": 6,
   "metadata": {},
   "outputs": [
    {
     "data": {
      "text/html": [
       "<style  type=\"text/css\" >\n",
       "</style><table id=\"T_2ddafbe1_0375_11eb_ab9a_002315f6d834\" ><thead>    <tr>        <th class=\"blank level0\" ></th>        <th class=\"col_heading level0 col0\" >Number of Unique Items</th>        <th class=\"col_heading level0 col1\" >Average Purchase Price</th>        <th class=\"col_heading level0 col2\" >Total Number of Purchases</th>        <th class=\"col_heading level0 col3\" >Total Revenue</th>    </tr></thead><tbody>\n",
       "                <tr>\n",
       "                        <th id=\"T_2ddafbe1_0375_11eb_ab9a_002315f6d834level0_row0\" class=\"row_heading level0 row0\" >0</th>\n",
       "                        <td id=\"T_2ddafbe1_0375_11eb_ab9a_002315f6d834row0_col0\" class=\"data row0 col0\" >179</td>\n",
       "                        <td id=\"T_2ddafbe1_0375_11eb_ab9a_002315f6d834row0_col1\" class=\"data row0 col1\" >$3.05</td>\n",
       "                        <td id=\"T_2ddafbe1_0375_11eb_ab9a_002315f6d834row0_col2\" class=\"data row0 col2\" >$780.00</td>\n",
       "                        <td id=\"T_2ddafbe1_0375_11eb_ab9a_002315f6d834row0_col3\" class=\"data row0 col3\" >$2,379.77</td>\n",
       "            </tr>\n",
       "    </tbody></table>"
      ],
      "text/plain": [
       "<pandas.io.formats.style.Styler at 0x2627e5861f0>"
      ]
     },
     "execution_count": 6,
     "metadata": {},
     "output_type": "execute_result"
    }
   ],
   "source": [
    "# Number of Unique Items\n",
    "num_uni_item = purchase_data[\"Item ID\"].nunique()\n",
    "# Average Purchase Price\n",
    "ave_per_price = purchase_data[\"Price\"].mean()\n",
    "# Total Number of Purchases\n",
    "tot_num_purc = purchase_data[\"Price\"].count()\n",
    "# Total Revenue\n",
    "tot_rev = purchase_data[\"Price\"].sum()\n",
    "\n",
    "# Purchasing Analysis (Total)\n",
    "pur_ana_tot = pd.DataFrame([{\"Number of Unique Items\" : num_uni_item,\n",
    "                \"Average Purchase Price\" : (ave_per_price),\n",
    "                \"Total Number of Purchases\" : tot_num_purc,\n",
    "                \"Total Revenue\" : (tot_rev)},\n",
    "               ])\n",
    "\n",
    "pur_ana_tot.style.format({\"Average Purchase Price\":\"${:,.2f}\"\n",
    "               ,\"Total Number of Purchases\":\"${:,.2f}\"\n",
    "              ,\"Total Revenue\":\"${:,.2f}\"})\n",
    "# pur_ana_tot"
   ]
  },
  {
   "cell_type": "markdown",
   "metadata": {},
   "source": [
    "### Gender Demographics\n",
    "\n",
    "* Percentage and Count of Male Players\n",
    "* Percentage and Count of Female Players\n",
    "* Percentage and Count of Other / Non-Disclosed"
   ]
  },
  {
   "cell_type": "code",
   "execution_count": 7,
   "metadata": {},
   "outputs": [],
   "source": [
    "# copy purchase data\n",
    "gen_demo_df = purchase_data.copy()"
   ]
  },
  {
   "cell_type": "code",
   "execution_count": 8,
   "metadata": {},
   "outputs": [
    {
     "data": {
      "text/html": [
       "<style  type=\"text/css\" >\n",
       "</style><table id=\"T_2de2e706_0375_11eb_a553_002315f6d834\" ><thead>    <tr>        <th class=\"blank level0\" ></th>        <th class=\"col_heading level0 col0\" >Total Count</th>        <th class=\"col_heading level0 col1\" >Percentage of Players</th>    </tr></thead><tbody>\n",
       "                <tr>\n",
       "                        <th id=\"T_2de2e706_0375_11eb_a553_002315f6d834level0_row0\" class=\"row_heading level0 row0\" >Male</th>\n",
       "                        <td id=\"T_2de2e706_0375_11eb_a553_002315f6d834row0_col0\" class=\"data row0 col0\" >484</td>\n",
       "                        <td id=\"T_2de2e706_0375_11eb_a553_002315f6d834row0_col1\" class=\"data row0 col1\" >84.03%</td>\n",
       "            </tr>\n",
       "            <tr>\n",
       "                        <th id=\"T_2de2e706_0375_11eb_a553_002315f6d834level0_row1\" class=\"row_heading level0 row1\" >Female</th>\n",
       "                        <td id=\"T_2de2e706_0375_11eb_a553_002315f6d834row1_col0\" class=\"data row1 col0\" >81</td>\n",
       "                        <td id=\"T_2de2e706_0375_11eb_a553_002315f6d834row1_col1\" class=\"data row1 col1\" >14.06%</td>\n",
       "            </tr>\n",
       "            <tr>\n",
       "                        <th id=\"T_2de2e706_0375_11eb_a553_002315f6d834level0_row2\" class=\"row_heading level0 row2\" >Other / Non-Disclosed</th>\n",
       "                        <td id=\"T_2de2e706_0375_11eb_a553_002315f6d834row2_col0\" class=\"data row2 col0\" >11</td>\n",
       "                        <td id=\"T_2de2e706_0375_11eb_a553_002315f6d834row2_col1\" class=\"data row2 col1\" >1.91%</td>\n",
       "            </tr>\n",
       "    </tbody></table>"
      ],
      "text/plain": [
       "<pandas.io.formats.style.Styler at 0x2627e5827f0>"
      ]
     },
     "execution_count": 8,
     "metadata": {},
     "output_type": "execute_result"
    }
   ],
   "source": [
    "# New data frame for Gender only\n",
    "purchase_data_gen = gen_demo_df.groupby(\"Gender\")\n",
    "\n",
    "# find Gender Counts\n",
    "gender_count = purchase_data_gen[\"SN\"].nunique()\n",
    "\n",
    "# Calculate percent of player by gender\n",
    "gen_perc = gender_count*100/purchase_data_gen[\"SN\"].nunique().sum()\n",
    "\n",
    "\n",
    "df_gen_demographics = pd.DataFrame({\"Total Count\": gender_count,\n",
    "                                   \"Percentage of Players\":gen_perc})\n",
    "\n",
    "\n",
    "\n",
    "\n",
    "\n",
    "# df_gen_demographics\n",
    "\n",
    "df_gen_demographics.index.name = None\n",
    "df_gen_demographics.sort_values(by=['Total Count'],ascending=False).style.format({\"Percentage of Players\" :'{:,.2f}%'})\n"
   ]
  },
  {
   "cell_type": "markdown",
   "metadata": {},
   "source": [
    "\n",
    "## Purchasing Analysis (Gender)"
   ]
  },
  {
   "cell_type": "markdown",
   "metadata": {},
   "source": [
    "Run basic calculations to obtain purchase count, avg. purchase price, avg. purchase total per person etc. by gender\n",
    "Create a summary data frame to hold the results\n",
    "Optional: give the displayed data cleaner formatting\n",
    "Display the summary data frame"
   ]
  },
  {
   "cell_type": "code",
   "execution_count": 9,
   "metadata": {},
   "outputs": [
    {
     "data": {
      "text/html": [
       "<style  type=\"text/css\" >\n",
       "</style><table id=\"T_2de665cd_0375_11eb_8591_002315f6d834\" ><thead>    <tr>        <th class=\"blank level0\" ></th>        <th class=\"col_heading level0 col0\" >Purchase Count</th>        <th class=\"col_heading level0 col1\" >Average Purchase Price</th>        <th class=\"col_heading level0 col2\" >Total Purchase Value</th>        <th class=\"col_heading level0 col3\" >Avg Total Purchase per Person</th>    </tr>    <tr>        <th class=\"index_name level0\" >Gender</th>        <th class=\"blank\" ></th>        <th class=\"blank\" ></th>        <th class=\"blank\" ></th>        <th class=\"blank\" ></th>    </tr></thead><tbody>\n",
       "                <tr>\n",
       "                        <th id=\"T_2de665cd_0375_11eb_8591_002315f6d834level0_row0\" class=\"row_heading level0 row0\" >Female</th>\n",
       "                        <td id=\"T_2de665cd_0375_11eb_8591_002315f6d834row0_col0\" class=\"data row0 col0\" >113</td>\n",
       "                        <td id=\"T_2de665cd_0375_11eb_8591_002315f6d834row0_col1\" class=\"data row0 col1\" >$3.20</td>\n",
       "                        <td id=\"T_2de665cd_0375_11eb_8591_002315f6d834row0_col2\" class=\"data row0 col2\" >$361.94</td>\n",
       "                        <td id=\"T_2de665cd_0375_11eb_8591_002315f6d834row0_col3\" class=\"data row0 col3\" >$4.47</td>\n",
       "            </tr>\n",
       "            <tr>\n",
       "                        <th id=\"T_2de665cd_0375_11eb_8591_002315f6d834level0_row1\" class=\"row_heading level0 row1\" >Male</th>\n",
       "                        <td id=\"T_2de665cd_0375_11eb_8591_002315f6d834row1_col0\" class=\"data row1 col0\" >652</td>\n",
       "                        <td id=\"T_2de665cd_0375_11eb_8591_002315f6d834row1_col1\" class=\"data row1 col1\" >$3.02</td>\n",
       "                        <td id=\"T_2de665cd_0375_11eb_8591_002315f6d834row1_col2\" class=\"data row1 col2\" >$1,967.64</td>\n",
       "                        <td id=\"T_2de665cd_0375_11eb_8591_002315f6d834row1_col3\" class=\"data row1 col3\" >$4.07</td>\n",
       "            </tr>\n",
       "            <tr>\n",
       "                        <th id=\"T_2de665cd_0375_11eb_8591_002315f6d834level0_row2\" class=\"row_heading level0 row2\" >Other / Non-Disclosed</th>\n",
       "                        <td id=\"T_2de665cd_0375_11eb_8591_002315f6d834row2_col0\" class=\"data row2 col0\" >15</td>\n",
       "                        <td id=\"T_2de665cd_0375_11eb_8591_002315f6d834row2_col1\" class=\"data row2 col1\" >$3.35</td>\n",
       "                        <td id=\"T_2de665cd_0375_11eb_8591_002315f6d834row2_col2\" class=\"data row2 col2\" >$50.19</td>\n",
       "                        <td id=\"T_2de665cd_0375_11eb_8591_002315f6d834row2_col3\" class=\"data row2 col3\" >$4.56</td>\n",
       "            </tr>\n",
       "    </tbody></table>"
      ],
      "text/plain": [
       "<pandas.io.formats.style.Styler at 0x262005eb1f0>"
      ]
     },
     "execution_count": 9,
     "metadata": {},
     "output_type": "execute_result"
    }
   ],
   "source": [
    "# gen_demo_df.groupby([\"SN\", \"Gender\"])[[\"Price\"]].sum().reset_index().groupby(\"Gender\")[\"Price\"].mean()\n",
    "# Group Purchase data by gender\n",
    "purchase_data_gen = gen_demo_df.groupby(\"Gender\")\n",
    "\n",
    "# Purchase Count by Gender\n",
    "purc_gen = purchase_data_gen[\"Gender\"].count()\n",
    "\n",
    "# Average purchase price by Gender\n",
    "ave_purc_gen = purchase_data_gen[\"Price\"].mean()\n",
    "\n",
    "# Total purchase price by gender\n",
    "tot_purc_gen = purchase_data_gen[\"Price\"].sum()\n",
    "\n",
    "# Average Total Purchase per person\n",
    "ave_tot_pur_per_per= tot_purc_gen/purchase_data_gen[\"SN\"].nunique()\n",
    "\n",
    "# Purchasing Analysis (Gender) data frame\n",
    "df_purc_ana_gen = pd.DataFrame({\"Purchase Count\" : purc_gen,\n",
    "                                \"Average Purchase Price\" : ave_purc_gen,\n",
    "                                \"Total Purchase Value\" : tot_purc_gen,\n",
    "                                \"Avg Total Purchase per Person\" : ave_tot_pur_per_per\n",
    "                                })\n",
    "df_purc_ana_gen.style.format({\"Average Purchase Price\" : '${:,.2f}',\n",
    "                              \"Total Purchase Value\" : '${:,.2f}',\n",
    "                              \"Avg Total Purchase per Person\" : '${:,.2f}'\n",
    "                             })"
   ]
  },
  {
   "cell_type": "markdown",
   "metadata": {},
   "source": [
    "### Age Demographics"
   ]
  },
  {
   "cell_type": "markdown",
   "metadata": {},
   "source": [
    "* Establish bins for ages\n",
    "* Categorize the existing players using the age bins. Hint: use pd.cut()\n",
    "* Calculate the numbers and percentages by age group\n",
    "* Create a summary data frame to hold the results\n",
    "* Optional: round the percentage column to two decimal points\n",
    "* Display Age Demographics Table"
   ]
  },
  {
   "cell_type": "code",
   "execution_count": 10,
   "metadata": {},
   "outputs": [
    {
     "data": {
      "text/html": [
       "<style  type=\"text/css\" >\n",
       "</style><table id=\"T_2deb6b65_0375_11eb_aed3_002315f6d834\" ><thead>    <tr>        <th class=\"blank level0\" ></th>        <th class=\"col_heading level0 col0\" >Total Count</th>        <th class=\"col_heading level0 col1\" >Percentage of Players</th>    </tr></thead><tbody>\n",
       "                <tr>\n",
       "                        <th id=\"T_2deb6b65_0375_11eb_aed3_002315f6d834level0_row0\" class=\"row_heading level0 row0\" ><10</th>\n",
       "                        <td id=\"T_2deb6b65_0375_11eb_aed3_002315f6d834row0_col0\" class=\"data row0 col0\" >17</td>\n",
       "                        <td id=\"T_2deb6b65_0375_11eb_aed3_002315f6d834row0_col1\" class=\"data row0 col1\" >2.95%</td>\n",
       "            </tr>\n",
       "            <tr>\n",
       "                        <th id=\"T_2deb6b65_0375_11eb_aed3_002315f6d834level0_row1\" class=\"row_heading level0 row1\" >10-14</th>\n",
       "                        <td id=\"T_2deb6b65_0375_11eb_aed3_002315f6d834row1_col0\" class=\"data row1 col0\" >22</td>\n",
       "                        <td id=\"T_2deb6b65_0375_11eb_aed3_002315f6d834row1_col1\" class=\"data row1 col1\" >3.82%</td>\n",
       "            </tr>\n",
       "            <tr>\n",
       "                        <th id=\"T_2deb6b65_0375_11eb_aed3_002315f6d834level0_row2\" class=\"row_heading level0 row2\" >15-19</th>\n",
       "                        <td id=\"T_2deb6b65_0375_11eb_aed3_002315f6d834row2_col0\" class=\"data row2 col0\" >107</td>\n",
       "                        <td id=\"T_2deb6b65_0375_11eb_aed3_002315f6d834row2_col1\" class=\"data row2 col1\" >18.58%</td>\n",
       "            </tr>\n",
       "            <tr>\n",
       "                        <th id=\"T_2deb6b65_0375_11eb_aed3_002315f6d834level0_row3\" class=\"row_heading level0 row3\" >20-24</th>\n",
       "                        <td id=\"T_2deb6b65_0375_11eb_aed3_002315f6d834row3_col0\" class=\"data row3 col0\" >258</td>\n",
       "                        <td id=\"T_2deb6b65_0375_11eb_aed3_002315f6d834row3_col1\" class=\"data row3 col1\" >44.79%</td>\n",
       "            </tr>\n",
       "            <tr>\n",
       "                        <th id=\"T_2deb6b65_0375_11eb_aed3_002315f6d834level0_row4\" class=\"row_heading level0 row4\" >25-39</th>\n",
       "                        <td id=\"T_2deb6b65_0375_11eb_aed3_002315f6d834row4_col0\" class=\"data row4 col0\" >77</td>\n",
       "                        <td id=\"T_2deb6b65_0375_11eb_aed3_002315f6d834row4_col1\" class=\"data row4 col1\" >13.37%</td>\n",
       "            </tr>\n",
       "            <tr>\n",
       "                        <th id=\"T_2deb6b65_0375_11eb_aed3_002315f6d834level0_row5\" class=\"row_heading level0 row5\" >30-34</th>\n",
       "                        <td id=\"T_2deb6b65_0375_11eb_aed3_002315f6d834row5_col0\" class=\"data row5 col0\" >52</td>\n",
       "                        <td id=\"T_2deb6b65_0375_11eb_aed3_002315f6d834row5_col1\" class=\"data row5 col1\" >9.03%</td>\n",
       "            </tr>\n",
       "            <tr>\n",
       "                        <th id=\"T_2deb6b65_0375_11eb_aed3_002315f6d834level0_row6\" class=\"row_heading level0 row6\" >35-39</th>\n",
       "                        <td id=\"T_2deb6b65_0375_11eb_aed3_002315f6d834row6_col0\" class=\"data row6 col0\" >31</td>\n",
       "                        <td id=\"T_2deb6b65_0375_11eb_aed3_002315f6d834row6_col1\" class=\"data row6 col1\" >5.38%</td>\n",
       "            </tr>\n",
       "            <tr>\n",
       "                        <th id=\"T_2deb6b65_0375_11eb_aed3_002315f6d834level0_row7\" class=\"row_heading level0 row7\" >40+</th>\n",
       "                        <td id=\"T_2deb6b65_0375_11eb_aed3_002315f6d834row7_col0\" class=\"data row7 col0\" >12</td>\n",
       "                        <td id=\"T_2deb6b65_0375_11eb_aed3_002315f6d834row7_col1\" class=\"data row7 col1\" >2.08%</td>\n",
       "            </tr>\n",
       "    </tbody></table>"
      ],
      "text/plain": [
       "<pandas.io.formats.style.Styler at 0x2620061caf0>"
      ]
     },
     "execution_count": 10,
     "metadata": {},
     "output_type": "execute_result"
    }
   ],
   "source": [
    "# copy data\n",
    "purchase_data_age = purchase_data.copy()\n",
    "\n",
    "# Cut/bin Data frame using age range\n",
    "# create range list/bin and labelfor the cut\n",
    "bins= [0,9.99,14.99,19.99,24.99,29.99,34.99,39.99,1000]\n",
    "label= [\"<10\", \"10-14\", \"15-19\", \"20-24\", \"25-39\", \"30-34\", \"35-39\", \"40+\"]\n",
    "\n",
    "\n",
    "# Add Age Range column in original data\n",
    "purchase_data_age[\"Age Range\"] = pd.cut(purchase_data_age[\"Age\"], bins, right=True, labels=label)\n",
    "\n",
    "# Group by age range\n",
    "purchase_data_age = purchase_data_age.groupby(\"Age Range\")\n",
    "\n",
    "# purchase counts in age range\n",
    "pur_coun_age = purchase_data_age[\"SN\"].nunique()\n",
    "\n",
    "\n",
    "\n",
    "age_demo = pd.DataFrame({\"Total Count\" : pur_coun_age,\n",
    "                         \"Percentage of Players\" : pur_coun_age/player_count*100\n",
    "                        })\n",
    "\n",
    "age_demo.index.name = None\n",
    "age_demo.style.format({\"Percentage of Players\" :'{:,.2f}%'})"
   ]
  },
  {
   "cell_type": "markdown",
   "metadata": {},
   "source": [
    "## Purchasing Analysis (Age)"
   ]
  },
  {
   "cell_type": "markdown",
   "metadata": {},
   "source": [
    "* Bin the purchase_data data frame by age\n",
    "\n",
    "\n",
    "* Run basic calculations to obtain purchase count, avg. purchase price, avg. purchase total per person etc. in the table below\n",
    "\n",
    "\n",
    "* Create a summary data frame to hold the results\n",
    "\n",
    "\n",
    "* Optional: give the displayed data cleaner formatting\n",
    "\n",
    "\n",
    "* Display the summary data frame"
   ]
  },
  {
   "cell_type": "code",
   "execution_count": 11,
   "metadata": {},
   "outputs": [
    {
     "data": {
      "text/html": [
       "<div>\n",
       "<style scoped>\n",
       "    .dataframe tbody tr th:only-of-type {\n",
       "        vertical-align: middle;\n",
       "    }\n",
       "\n",
       "    .dataframe tbody tr th {\n",
       "        vertical-align: top;\n",
       "    }\n",
       "\n",
       "    .dataframe thead th {\n",
       "        text-align: right;\n",
       "    }\n",
       "</style>\n",
       "<table border=\"1\" class=\"dataframe\">\n",
       "  <thead>\n",
       "    <tr style=\"text-align: right;\">\n",
       "      <th></th>\n",
       "      <th>Purchase Count</th>\n",
       "      <th>Average Purchase Price</th>\n",
       "      <th>Total Purchase Value</th>\n",
       "      <th>Avg Total Purchase per Person</th>\n",
       "    </tr>\n",
       "    <tr>\n",
       "      <th>Age Ranges</th>\n",
       "      <th></th>\n",
       "      <th></th>\n",
       "      <th></th>\n",
       "      <th></th>\n",
       "    </tr>\n",
       "  </thead>\n",
       "  <tbody>\n",
       "    <tr>\n",
       "      <th>&lt;10</th>\n",
       "      <td>17</td>\n",
       "      <td>$3.35</td>\n",
       "      <td>$77.13</td>\n",
       "      <td>$4.54</td>\n",
       "    </tr>\n",
       "    <tr>\n",
       "      <th>10-14</th>\n",
       "      <td>22</td>\n",
       "      <td>$2.96</td>\n",
       "      <td>$82.78</td>\n",
       "      <td>$3.76</td>\n",
       "    </tr>\n",
       "    <tr>\n",
       "      <th>15-19</th>\n",
       "      <td>107</td>\n",
       "      <td>$3.04</td>\n",
       "      <td>$412.89</td>\n",
       "      <td>$3.86</td>\n",
       "    </tr>\n",
       "    <tr>\n",
       "      <th>20-24</th>\n",
       "      <td>258</td>\n",
       "      <td>$3.05</td>\n",
       "      <td>$1,114.06</td>\n",
       "      <td>$4.32</td>\n",
       "    </tr>\n",
       "    <tr>\n",
       "      <th>25-39</th>\n",
       "      <td>77</td>\n",
       "      <td>$2.90</td>\n",
       "      <td>$293.00</td>\n",
       "      <td>$3.81</td>\n",
       "    </tr>\n",
       "    <tr>\n",
       "      <th>30-34</th>\n",
       "      <td>52</td>\n",
       "      <td>$2.93</td>\n",
       "      <td>$214.00</td>\n",
       "      <td>$4.12</td>\n",
       "    </tr>\n",
       "    <tr>\n",
       "      <th>35-39</th>\n",
       "      <td>31</td>\n",
       "      <td>$3.60</td>\n",
       "      <td>$147.67</td>\n",
       "      <td>$4.76</td>\n",
       "    </tr>\n",
       "    <tr>\n",
       "      <th>40+</th>\n",
       "      <td>12</td>\n",
       "      <td>$2.94</td>\n",
       "      <td>$38.24</td>\n",
       "      <td>$3.19</td>\n",
       "    </tr>\n",
       "  </tbody>\n",
       "</table>\n",
       "</div>"
      ],
      "text/plain": [
       "            Purchase Count Average Purchase Price Total Purchase Value  \\\n",
       "Age Ranges                                                               \n",
       "<10                     17                  $3.35               $77.13   \n",
       "10-14                   22                  $2.96               $82.78   \n",
       "15-19                  107                  $3.04              $412.89   \n",
       "20-24                  258                  $3.05            $1,114.06   \n",
       "25-39                   77                  $2.90              $293.00   \n",
       "30-34                   52                  $2.93              $214.00   \n",
       "35-39                   31                  $3.60              $147.67   \n",
       "40+                     12                  $2.94               $38.24   \n",
       "\n",
       "           Avg Total Purchase per Person  \n",
       "Age Ranges                                \n",
       "<10                                $4.54  \n",
       "10-14                              $3.76  \n",
       "15-19                              $3.86  \n",
       "20-24                              $4.32  \n",
       "25-39                              $3.81  \n",
       "30-34                              $4.12  \n",
       "35-39                              $4.76  \n",
       "40+                                $3.19  "
      ]
     },
     "execution_count": 11,
     "metadata": {},
     "output_type": "execute_result"
    }
   ],
   "source": [
    "# average purchase price\n",
    "ave_pur_pri_age = purchase_data_age[\"Price\"].mean()\n",
    "\n",
    "# Total Purchase Value\n",
    "tot_pur_val_age = purchase_data_age[\"Price\"].sum()\n",
    "\n",
    "# average total purchase per purson\n",
    "ave_tot_pur_per_per_age=tot_pur_val_age/purchase_data_age[\"SN\"].nunique()\n",
    "\n",
    "# Data Frame for Purchasing Analysis (Age)\n",
    "\n",
    "df_pur_ana_age = pd.DataFrame({\"Purchase Count\":pur_coun_age,\n",
    "                               \"Average Purchase Price\":ave_pur_pri_age.map('${:,.2f}'.format),\n",
    "                               \"Total Purchase Value\":tot_pur_val_age.map('${:,.2f}'.format),\n",
    "                               \"Avg Total Purchase per Person\":ave_tot_pur_per_per_age.map('${:,.2f}'.format)\n",
    "                              })\n",
    "\n",
    "df_pur_ana_age.index.name=\"Age Ranges\"\n",
    "df_pur_ana_age"
   ]
  },
  {
   "cell_type": "markdown",
   "metadata": {},
   "source": [
    "## Top Spenders"
   ]
  },
  {
   "cell_type": "markdown",
   "metadata": {},
   "source": [
    "* Run basic calculations to obtain the results in the table below\n",
    "* Create a summary data frame to hold the results\n",
    "* Sort the total purchase value column in descending order\n",
    "* Optional: give the displayed data cleaner formatting\n",
    "* Display a preview of the summary data frame"
   ]
  },
  {
   "cell_type": "code",
   "execution_count": 12,
   "metadata": {},
   "outputs": [
    {
     "data": {
      "text/html": [
       "<style  type=\"text/css\" >\n",
       "</style><table id=\"T_2df501c4_0375_11eb_8bd4_002315f6d834\" ><thead>    <tr>        <th class=\"blank level0\" ></th>        <th class=\"col_heading level0 col0\" >Purchase Count</th>        <th class=\"col_heading level0 col1\" >Average Purchase Price</th>        <th class=\"col_heading level0 col2\" >Total Purchase Value</th>    </tr>    <tr>        <th class=\"index_name level0\" >SN</th>        <th class=\"blank\" ></th>        <th class=\"blank\" ></th>        <th class=\"blank\" ></th>    </tr></thead><tbody>\n",
       "                <tr>\n",
       "                        <th id=\"T_2df501c4_0375_11eb_8bd4_002315f6d834level0_row0\" class=\"row_heading level0 row0\" >Lisosia93</th>\n",
       "                        <td id=\"T_2df501c4_0375_11eb_8bd4_002315f6d834row0_col0\" class=\"data row0 col0\" >5</td>\n",
       "                        <td id=\"T_2df501c4_0375_11eb_8bd4_002315f6d834row0_col1\" class=\"data row0 col1\" >$3.79</td>\n",
       "                        <td id=\"T_2df501c4_0375_11eb_8bd4_002315f6d834row0_col2\" class=\"data row0 col2\" >$18.96</td>\n",
       "            </tr>\n",
       "            <tr>\n",
       "                        <th id=\"T_2df501c4_0375_11eb_8bd4_002315f6d834level0_row1\" class=\"row_heading level0 row1\" >Idastidru52</th>\n",
       "                        <td id=\"T_2df501c4_0375_11eb_8bd4_002315f6d834row1_col0\" class=\"data row1 col0\" >4</td>\n",
       "                        <td id=\"T_2df501c4_0375_11eb_8bd4_002315f6d834row1_col1\" class=\"data row1 col1\" >$3.86</td>\n",
       "                        <td id=\"T_2df501c4_0375_11eb_8bd4_002315f6d834row1_col2\" class=\"data row1 col2\" >$15.45</td>\n",
       "            </tr>\n",
       "            <tr>\n",
       "                        <th id=\"T_2df501c4_0375_11eb_8bd4_002315f6d834level0_row2\" class=\"row_heading level0 row2\" >Chamjask73</th>\n",
       "                        <td id=\"T_2df501c4_0375_11eb_8bd4_002315f6d834row2_col0\" class=\"data row2 col0\" >3</td>\n",
       "                        <td id=\"T_2df501c4_0375_11eb_8bd4_002315f6d834row2_col1\" class=\"data row2 col1\" >$4.61</td>\n",
       "                        <td id=\"T_2df501c4_0375_11eb_8bd4_002315f6d834row2_col2\" class=\"data row2 col2\" >$13.83</td>\n",
       "            </tr>\n",
       "            <tr>\n",
       "                        <th id=\"T_2df501c4_0375_11eb_8bd4_002315f6d834level0_row3\" class=\"row_heading level0 row3\" >Iral74</th>\n",
       "                        <td id=\"T_2df501c4_0375_11eb_8bd4_002315f6d834row3_col0\" class=\"data row3 col0\" >4</td>\n",
       "                        <td id=\"T_2df501c4_0375_11eb_8bd4_002315f6d834row3_col1\" class=\"data row3 col1\" >$3.40</td>\n",
       "                        <td id=\"T_2df501c4_0375_11eb_8bd4_002315f6d834row3_col2\" class=\"data row3 col2\" >$13.62</td>\n",
       "            </tr>\n",
       "            <tr>\n",
       "                        <th id=\"T_2df501c4_0375_11eb_8bd4_002315f6d834level0_row4\" class=\"row_heading level0 row4\" >Iskadarya95</th>\n",
       "                        <td id=\"T_2df501c4_0375_11eb_8bd4_002315f6d834row4_col0\" class=\"data row4 col0\" >3</td>\n",
       "                        <td id=\"T_2df501c4_0375_11eb_8bd4_002315f6d834row4_col1\" class=\"data row4 col1\" >$4.37</td>\n",
       "                        <td id=\"T_2df501c4_0375_11eb_8bd4_002315f6d834row4_col2\" class=\"data row4 col2\" >$13.10</td>\n",
       "            </tr>\n",
       "    </tbody></table>"
      ],
      "text/plain": [
       "<pandas.io.formats.style.Styler at 0x2620061c610>"
      ]
     },
     "execution_count": 12,
     "metadata": {},
     "output_type": "execute_result"
    }
   ],
   "source": [
    "# group by SN\n",
    "purchase_data_sn = purchase_data.groupby(\"SN\")\n",
    "\n",
    "\n",
    "# Find Purchase Cousnt SN\n",
    "pur_coun_sn = purchase_data_sn[\"Purchase ID\"].nunique()\n",
    "\n",
    "# Average Purchase Price\n",
    "avg_purc_price_sn = purchase_data_sn[\"Price\"].mean()\n",
    "\n",
    "# Total Purchase Value\n",
    "tot_purc_val_sn = purchase_data_sn[\"Price\"].sum()\n",
    "\n",
    "# build Data Frame for groupby SN\n",
    "df_top_spe = pd.DataFrame({\"Purchase Count\":pur_coun_sn,\n",
    "                           \"Average Purchase Price\":avg_purc_price_sn,\n",
    "                           \"Total Purchase Value\":tot_purc_val_sn\n",
    "                          })\n",
    "\n",
    "# Decending sort\n",
    "df_top_spe=df_top_spe.sort_values(by=['Total Purchase Value'],ascending=False).head()\n",
    "df_top_spe.style.format({\"Average Purchase Price\":\"${:,.2f}\",\n",
    "                         \"Total Purchase Value\":\"${:,.2f}\"\n",
    "                         })"
   ]
  },
  {
   "cell_type": "markdown",
   "metadata": {},
   "source": [
    "## Most Popular Items"
   ]
  },
  {
   "cell_type": "markdown",
   "metadata": {},
   "source": [
    "* Retrieve the Item ID, Item Name, and Item Price columns\n",
    "* Group by Item ID and Item Name. Perform calculations to obtain purchase count, item price, and total purchase value\n",
    "* Create a summary data frame to hold the results\n",
    "* Sort the purchase count column in descending order\n",
    "* Optional: give the displayed data cleaner formatting\n",
    "* Display a preview of the summary data frame"
   ]
  },
  {
   "cell_type": "code",
   "execution_count": 13,
   "metadata": {
    "scrolled": true
   },
   "outputs": [
    {
     "data": {
      "text/html": [
       "<style  type=\"text/css\" >\n",
       "</style><table id=\"T_2df9b96e_0375_11eb_a78c_002315f6d834\" ><thead>    <tr>        <th class=\"blank\" ></th>        <th class=\"blank level0\" ></th>        <th class=\"col_heading level0 col0\" >Purchase Count</th>        <th class=\"col_heading level0 col1\" >Item Price</th>        <th class=\"col_heading level0 col2\" >Total Purchase Value</th>    </tr>    <tr>        <th class=\"index_name level0\" >Item ID</th>        <th class=\"index_name level1\" >Item Name</th>        <th class=\"blank\" ></th>        <th class=\"blank\" ></th>        <th class=\"blank\" ></th>    </tr></thead><tbody>\n",
       "                <tr>\n",
       "                        <th id=\"T_2df9b96e_0375_11eb_a78c_002315f6d834level0_row0\" class=\"row_heading level0 row0\" >92</th>\n",
       "                        <th id=\"T_2df9b96e_0375_11eb_a78c_002315f6d834level1_row0\" class=\"row_heading level1 row0\" >Final Critic</th>\n",
       "                        <td id=\"T_2df9b96e_0375_11eb_a78c_002315f6d834row0_col0\" class=\"data row0 col0\" >13</td>\n",
       "                        <td id=\"T_2df9b96e_0375_11eb_a78c_002315f6d834row0_col1\" class=\"data row0 col1\" >$4.61</td>\n",
       "                        <td id=\"T_2df9b96e_0375_11eb_a78c_002315f6d834row0_col2\" class=\"data row0 col2\" >$59.99</td>\n",
       "            </tr>\n",
       "            <tr>\n",
       "                        <th id=\"T_2df9b96e_0375_11eb_a78c_002315f6d834level0_row1\" class=\"row_heading level0 row1\" >178</th>\n",
       "                        <th id=\"T_2df9b96e_0375_11eb_a78c_002315f6d834level1_row1\" class=\"row_heading level1 row1\" >Oathbreaker, Last Hope of the Breaking Storm</th>\n",
       "                        <td id=\"T_2df9b96e_0375_11eb_a78c_002315f6d834row1_col0\" class=\"data row1 col0\" >12</td>\n",
       "                        <td id=\"T_2df9b96e_0375_11eb_a78c_002315f6d834row1_col1\" class=\"data row1 col1\" >$4.23</td>\n",
       "                        <td id=\"T_2df9b96e_0375_11eb_a78c_002315f6d834row1_col2\" class=\"data row1 col2\" >$50.76</td>\n",
       "            </tr>\n",
       "            <tr>\n",
       "                        <th id=\"T_2df9b96e_0375_11eb_a78c_002315f6d834level0_row2\" class=\"row_heading level0 row2\" >145</th>\n",
       "                        <th id=\"T_2df9b96e_0375_11eb_a78c_002315f6d834level1_row2\" class=\"row_heading level1 row2\" >Fiery Glass Crusader</th>\n",
       "                        <td id=\"T_2df9b96e_0375_11eb_a78c_002315f6d834row2_col0\" class=\"data row2 col0\" >9</td>\n",
       "                        <td id=\"T_2df9b96e_0375_11eb_a78c_002315f6d834row2_col1\" class=\"data row2 col1\" >$4.58</td>\n",
       "                        <td id=\"T_2df9b96e_0375_11eb_a78c_002315f6d834row2_col2\" class=\"data row2 col2\" >$41.22</td>\n",
       "            </tr>\n",
       "            <tr>\n",
       "                        <th id=\"T_2df9b96e_0375_11eb_a78c_002315f6d834level0_row3\" class=\"row_heading level0 row3\" >132</th>\n",
       "                        <th id=\"T_2df9b96e_0375_11eb_a78c_002315f6d834level1_row3\" class=\"row_heading level1 row3\" >Persuasion</th>\n",
       "                        <td id=\"T_2df9b96e_0375_11eb_a78c_002315f6d834row3_col0\" class=\"data row3 col0\" >9</td>\n",
       "                        <td id=\"T_2df9b96e_0375_11eb_a78c_002315f6d834row3_col1\" class=\"data row3 col1\" >$3.22</td>\n",
       "                        <td id=\"T_2df9b96e_0375_11eb_a78c_002315f6d834row3_col2\" class=\"data row3 col2\" >$28.99</td>\n",
       "            </tr>\n",
       "            <tr>\n",
       "                        <th id=\"T_2df9b96e_0375_11eb_a78c_002315f6d834level0_row4\" class=\"row_heading level0 row4\" >108</th>\n",
       "                        <th id=\"T_2df9b96e_0375_11eb_a78c_002315f6d834level1_row4\" class=\"row_heading level1 row4\" >Extraction, Quickblade Of Trembling Hands</th>\n",
       "                        <td id=\"T_2df9b96e_0375_11eb_a78c_002315f6d834row4_col0\" class=\"data row4 col0\" >9</td>\n",
       "                        <td id=\"T_2df9b96e_0375_11eb_a78c_002315f6d834row4_col1\" class=\"data row4 col1\" >$3.53</td>\n",
       "                        <td id=\"T_2df9b96e_0375_11eb_a78c_002315f6d834row4_col2\" class=\"data row4 col2\" >$31.77</td>\n",
       "            </tr>\n",
       "    </tbody></table>"
      ],
      "text/plain": [
       "<pandas.io.formats.style.Styler at 0x26201968640>"
      ]
     },
     "execution_count": 13,
     "metadata": {},
     "output_type": "execute_result"
    }
   ],
   "source": [
    "# Group by Item ID and Item Name\n",
    "purchase_data_id = purchase_data.groupby([\"Item ID\", \"Item Name\"])\n",
    "# purchase_data_id.head()\n",
    "\n",
    "# Purchase Count\n",
    "pur_coun_id = purchase_data_id[\"SN\"].nunique()\n",
    "\n",
    "# Total Purchase Value\n",
    "tot_val_id = purchase_data_id[\"Price\"].sum()\n",
    "\n",
    "# Item Price\n",
    "item_price_id = tot_val_id/pur_coun_id\n",
    "\n",
    "# Built new data fram\n",
    "# df_top_item = pd.DataFrame({\"Purchase Count\":pur_coun_id,\n",
    "#                             \"Item Price\":item_price_id.map('${:,.2f}'.format),\n",
    "#                             \"Total Purchase Value\":tot_val_id.map('${:,.2f}'.format)\n",
    "#                            })\n",
    "\n",
    "df_top_item = pd.DataFrame({\"Purchase Count\":pur_coun_id,\n",
    "                            \"Item Price\":item_price_id,\n",
    "                            \"Total Purchase Value\":tot_val_id\n",
    "                           })\n",
    "\n",
    "df_top_item_pop=df_top_item.sort_values(by=['Purchase Count'],ascending=False).head()\n",
    "df_top_item_pop.style.format({\"Item Price\":\"${:,.2f}\",\"Total Purchase Value\":\"${:,.2f}\"})"
   ]
  },
  {
   "cell_type": "markdown",
   "metadata": {},
   "source": [
    "## Most Profitable Items"
   ]
  },
  {
   "cell_type": "markdown",
   "metadata": {},
   "source": [
    "* Sort the above table by total purchase value in descending order\n",
    "* Optional: give the displayed data cleaner formatting\n",
    "* Display a preview of the data frame"
   ]
  },
  {
   "cell_type": "code",
   "execution_count": 14,
   "metadata": {
    "scrolled": true
   },
   "outputs": [
    {
     "data": {
      "text/html": [
       "<style  type=\"text/css\" >\n",
       "</style><table id=\"T_2dfdd65a_0375_11eb_a3df_002315f6d834\" ><thead>    <tr>        <th class=\"blank\" ></th>        <th class=\"blank level0\" ></th>        <th class=\"col_heading level0 col0\" >Purchase Count</th>        <th class=\"col_heading level0 col1\" >Item Price</th>        <th class=\"col_heading level0 col2\" >Total Purchase Value</th>    </tr>    <tr>        <th class=\"index_name level0\" >Item ID</th>        <th class=\"index_name level1\" >Item Name</th>        <th class=\"blank\" ></th>        <th class=\"blank\" ></th>        <th class=\"blank\" ></th>    </tr></thead><tbody>\n",
       "                <tr>\n",
       "                        <th id=\"T_2dfdd65a_0375_11eb_a3df_002315f6d834level0_row0\" class=\"row_heading level0 row0\" >92</th>\n",
       "                        <th id=\"T_2dfdd65a_0375_11eb_a3df_002315f6d834level1_row0\" class=\"row_heading level1 row0\" >Final Critic</th>\n",
       "                        <td id=\"T_2dfdd65a_0375_11eb_a3df_002315f6d834row0_col0\" class=\"data row0 col0\" >13</td>\n",
       "                        <td id=\"T_2dfdd65a_0375_11eb_a3df_002315f6d834row0_col1\" class=\"data row0 col1\" >$4.61</td>\n",
       "                        <td id=\"T_2dfdd65a_0375_11eb_a3df_002315f6d834row0_col2\" class=\"data row0 col2\" >$59.99</td>\n",
       "            </tr>\n",
       "            <tr>\n",
       "                        <th id=\"T_2dfdd65a_0375_11eb_a3df_002315f6d834level0_row1\" class=\"row_heading level0 row1\" >178</th>\n",
       "                        <th id=\"T_2dfdd65a_0375_11eb_a3df_002315f6d834level1_row1\" class=\"row_heading level1 row1\" >Oathbreaker, Last Hope of the Breaking Storm</th>\n",
       "                        <td id=\"T_2dfdd65a_0375_11eb_a3df_002315f6d834row1_col0\" class=\"data row1 col0\" >12</td>\n",
       "                        <td id=\"T_2dfdd65a_0375_11eb_a3df_002315f6d834row1_col1\" class=\"data row1 col1\" >$4.23</td>\n",
       "                        <td id=\"T_2dfdd65a_0375_11eb_a3df_002315f6d834row1_col2\" class=\"data row1 col2\" >$50.76</td>\n",
       "            </tr>\n",
       "            <tr>\n",
       "                        <th id=\"T_2dfdd65a_0375_11eb_a3df_002315f6d834level0_row2\" class=\"row_heading level0 row2\" >82</th>\n",
       "                        <th id=\"T_2dfdd65a_0375_11eb_a3df_002315f6d834level1_row2\" class=\"row_heading level1 row2\" >Nirvana</th>\n",
       "                        <td id=\"T_2dfdd65a_0375_11eb_a3df_002315f6d834row2_col0\" class=\"data row2 col0\" >9</td>\n",
       "                        <td id=\"T_2dfdd65a_0375_11eb_a3df_002315f6d834row2_col1\" class=\"data row2 col1\" >$4.90</td>\n",
       "                        <td id=\"T_2dfdd65a_0375_11eb_a3df_002315f6d834row2_col2\" class=\"data row2 col2\" >$44.10</td>\n",
       "            </tr>\n",
       "            <tr>\n",
       "                        <th id=\"T_2dfdd65a_0375_11eb_a3df_002315f6d834level0_row3\" class=\"row_heading level0 row3\" >145</th>\n",
       "                        <th id=\"T_2dfdd65a_0375_11eb_a3df_002315f6d834level1_row3\" class=\"row_heading level1 row3\" >Fiery Glass Crusader</th>\n",
       "                        <td id=\"T_2dfdd65a_0375_11eb_a3df_002315f6d834row3_col0\" class=\"data row3 col0\" >9</td>\n",
       "                        <td id=\"T_2dfdd65a_0375_11eb_a3df_002315f6d834row3_col1\" class=\"data row3 col1\" >$4.58</td>\n",
       "                        <td id=\"T_2dfdd65a_0375_11eb_a3df_002315f6d834row3_col2\" class=\"data row3 col2\" >$41.22</td>\n",
       "            </tr>\n",
       "            <tr>\n",
       "                        <th id=\"T_2dfdd65a_0375_11eb_a3df_002315f6d834level0_row4\" class=\"row_heading level0 row4\" >103</th>\n",
       "                        <th id=\"T_2dfdd65a_0375_11eb_a3df_002315f6d834level1_row4\" class=\"row_heading level1 row4\" >Singed Scalpel</th>\n",
       "                        <td id=\"T_2dfdd65a_0375_11eb_a3df_002315f6d834row4_col0\" class=\"data row4 col0\" >8</td>\n",
       "                        <td id=\"T_2dfdd65a_0375_11eb_a3df_002315f6d834row4_col1\" class=\"data row4 col1\" >$4.35</td>\n",
       "                        <td id=\"T_2dfdd65a_0375_11eb_a3df_002315f6d834row4_col2\" class=\"data row4 col2\" >$34.80</td>\n",
       "            </tr>\n",
       "    </tbody></table>"
      ],
      "text/plain": [
       "<pandas.io.formats.style.Styler at 0x2620183af40>"
      ]
     },
     "execution_count": 14,
     "metadata": {},
     "output_type": "execute_result"
    }
   ],
   "source": [
    "\n",
    "df_top_item_pro=df_top_item.sort_values(by=['Total Purchase Value'],ascending=False).head()\n",
    "\n",
    "df_top_item_pro.style.format({\"Item Price\":\"${:,.2f}\",\"Total Purchase Value\":\"${:,.2f}\"})"
   ]
  }
 ],
 "metadata": {
  "kernelspec": {
   "display_name": "Python 3",
   "language": "python",
   "name": "python3"
  },
  "language_info": {
   "codemirror_mode": {
    "name": "ipython",
    "version": 3
   },
   "file_extension": ".py",
   "mimetype": "text/x-python",
   "name": "python",
   "nbconvert_exporter": "python",
   "pygments_lexer": "ipython3",
   "version": "3.8.3"
  }
 },
 "nbformat": 4,
 "nbformat_minor": 4
}
